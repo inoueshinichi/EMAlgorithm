{
 "cells": [
  {
   "cell_type": "markdown",
   "metadata": {},
   "source": [
    "各ピクセルに対して[黒、白]の黒となる確率μiを考える\n"
   ]
  },
  {
   "cell_type": "markdown",
   "metadata": {},
   "source": [
    "データ行列X[画像の枚数, 1枚の画像の全ピクセル]"
   ]
  },
  {
   "cell_type": "markdown",
   "metadata": {},
   "source": [
    "黒x_i = 1 : pi = μi"
   ]
  },
  {
   "cell_type": "markdown",
   "metadata": {},
   "source": [
    "白xi = 0 : pi = (1 - μi)"
   ]
  },
  {
   "cell_type": "markdown",
   "metadata": {},
   "source": [
    "あるピクセルが黒になる確率 pi = μi^x_i * (1 - μi)^(1 - x_i)"
   ]
  },
  {
   "cell_type": "markdown",
   "metadata": {},
   "source": [
    "Dピクセルの1枚の画像の生成確率 p(x) = Πi:1_D[ pi ] = Πi:1_D[ μi^x_i * (1 - μi)^(1 - x_i) ] ・・・(1)"
   ]
  },
  {
   "cell_type": "markdown",
   "metadata": {},
   "source": [
    "トレーニングセットN枚の画像の生成確率(尤度関数) P = Πn:1_N = Πn:1_NΠn:1_D [ p(x) ]"
   ]
  },
  {
   "cell_type": "markdown",
   "metadata": {},
   "source": [
    "対数尤度関数log(P) = Σn:1_NΣi:1_D [ [x_n]_i * log(μi) + (1 - [x_n]_i) * log(1 - μi) ]"
   ]
  },
  {
   "cell_type": "markdown",
   "metadata": {},
   "source": [
    "μiで偏微分して、"
   ]
  },
  {
   "cell_type": "markdown",
   "metadata": {},
   "source": [
    "d(log(P))/dμi = Σn:1_N [ [x_n]_i / μi - (1 - [x_n]_i) / (1 - μi) ] = 0"
   ]
  },
  {
   "cell_type": "markdown",
   "metadata": {},
   "source": [
    "μi = Σn:1_N [x_n]i / N"
   ]
  },
  {
   "cell_type": "markdown",
   "metadata": {},
   "source": [
    "全部でK種類の画像生成器{μk}k:1_K (1)がK種類"
   ]
  },
  {
   "cell_type": "markdown",
   "metadata": {},
   "source": [
    "Pμk(x) = Πi:1_D [ [μk]_i^xi * (1 - [μk]_i^(1 - xi)) ]"
   ]
  },
  {
   "cell_type": "markdown",
   "metadata": {},
   "source": [
    "K種類の画像生成器の中から1つを選択する確率Πk, Σk:1_K [ Πk ] = 1"
   ]
  },
  {
   "cell_type": "markdown",
   "metadata": {},
   "source": [
    "画像生成器Kによって特定の画像Xが得られる確率 P(x) = Σk:1_K [ Πk * Pμk(x) ]"
   ]
  },
  {
   "cell_type": "markdown",
   "metadata": {},
   "source": [
    "トレーニングセット全体が得られる確率"
   ]
  },
  {
   "cell_type": "markdown",
   "metadata": {},
   "source": [
    "P = Πn:1_N [ p(x_n) ] = Πn:1_NΣk:1_K [ Πk * Pμk(x_n) ]"
   ]
  },
  {
   "cell_type": "markdown",
   "metadata": {},
   "source": [
    "P =  Πn:1_NΣk:1_K [ Πk * Πi:1_D [ [μk]_i^xi * (1 - [μk]_i^(1 - xi)) ] ] "
   ]
  },
  {
   "cell_type": "markdown",
   "metadata": {},
   "source": [
    "# EMアルゴリズム"
   ]
  },
  {
   "cell_type": "code",
   "execution_count": 9,
   "metadata": {
    "collapsed": true
   },
   "outputs": [],
   "source": [
    "import os\n",
    "import numpy as np\n",
    "import struct\n",
    "import matplotlib.pyplot as plt\n",
    "from scipy.misc import logsumexp\n",
    "%matplotlib inline"
   ]
  },
  {
   "cell_type": "code",
   "execution_count": 10,
   "metadata": {
    "collapsed": true
   },
   "outputs": [],
   "source": [
    "# mnistの読み込み\n",
    "\n",
    "def load_mnist(path, kind='train'):\n",
    "    \"\"\"MNISTをロード\"\"\"\n",
    "    labels_path = os.path.join(path, '%s-labels-idx1-ubyte' % kind)\n",
    "    images_path = os.path.join(path, '%s-images-idx3-ubyte' % kind)\n",
    "    \n",
    "    with open(labels_path, 'rb') as lbpath:\n",
    "        magic, n = struct.unpack('>II', lbpath.read(8))\n",
    "        labels = np.fromfile(lbpath, dtype=np.uint8)\n",
    "    \n",
    "    with open(images_path, 'rb') as imgpath:\n",
    "        magic, num, rows, cols = struct.unpack(\">IIII\", imgpath.read(16))\n",
    "        images = np.fromfile(imgpath, dtype=np.uint8).reshape(len(labels), 784)\n",
    "        \n",
    "    return images, labels"
   ]
  },
  {
   "cell_type": "code",
   "execution_count": 11,
   "metadata": {
    "collapsed": true,
    "scrolled": true
   },
   "outputs": [],
   "source": [
    "X_train, y_train = load_mnist('./data/mnist', kind='train')\n",
    "#print(X_train[:5])"
   ]
  },
  {
   "cell_type": "code",
   "execution_count": 12,
   "metadata": {
    "collapsed": true
   },
   "outputs": [],
   "source": [
    "# 画像データの2値化\n",
    "def binarize_img(X):\n",
    "    N = X.shape[0]\n",
    "    D = X.shape[1]\n",
    "    \n",
    "    for i in range(N):\n",
    "        for k in range(D):\n",
    "            if X[i, k] > 127:\n",
    "                X[i, k] = 1\n",
    "            else:\n",
    "                X[i, k] = 0\n",
    "    \n",
    "    return X"
   ]
  },
  {
   "cell_type": "code",
   "execution_count": 13,
   "metadata": {
    "collapsed": true
   },
   "outputs": [],
   "source": [
    "def bernoulli(x, p):\n",
    "    \"\"\"\n",
    "    多変量ベルヌーイ関数(変数の数は画像ピクセル数)\n",
    "    \"\"\"\n",
    "    bernoulli = 1\n",
    "    epsilon = 1e-5\n",
    "    D = len(x)\n",
    "    \n",
    "    # 確率のクリップ\n",
    "    np.clip(p, 1e-10, (1 - 1e-10), out=p)\n",
    "\n",
    "    for x_i, pk_i in zip(x, p):\n",
    "        #bernoulli *= (p[i] ** x[i]) * (1 - p[i]) ** (1 - x[i])\n",
    "        if x_i == 1:\n",
    "            bernoulli *= pk_i\n",
    "        else:\n",
    "            bernoulli *= (1 - pk_i)\n",
    "            \n",
    "        # ゼロ回避\n",
    "            \n",
    "    return bernoulli #+ epsilon"
   ]
  },
  {
   "cell_type": "code",
   "execution_count": 14,
   "metadata": {
    "scrolled": false
   },
   "outputs": [
    {
     "data": {
      "text/plain": [
       "'\\nX = binarize_img(X_train[:1])\\np = np.random.rand(K, D) # ピクセルの生成確率\\nprint(X[0])\\nprint(p[0])\\n\\nprint(bernoulli(X[0], p[0]))\\n'"
      ]
     },
     "execution_count": 14,
     "metadata": {},
     "output_type": "execute_result"
    }
   ],
   "source": [
    "\"\"\"\n",
    "X = binarize_img(X_train[:1])\n",
    "p = np.random.rand(K, D) # ピクセルの生成確率\n",
    "print(X[0])\n",
    "print(p[0])\n",
    "\n",
    "print(bernoulli(X[0], p[0]))\n",
    "\"\"\""
   ]
  },
  {
   "cell_type": "code",
   "execution_count": 22,
   "metadata": {
    "collapsed": true
   },
   "outputs": [],
   "source": [
    "def berLogLikelihood(X, p):\n",
    "    \"\"\"\n",
    "    対数尤度関数\n",
    "    \"\"\"\n",
    "    D = len(X)\n",
    "    #likelihood = 0.0\n",
    "    log_likelihood = 0.0\n",
    "    \n",
    "    \n",
    "    \"\"\"\n",
    "    # 以下のやり方だと、0以下の確率を何度も掛け算して、\n",
    "    # bernoulli(X[i], p[k])が0に限りなく近くなり、lilelihoodも0近くなり,\n",
    "    # 結果, np.log(likelihood) → -∞　になってしまう。\n",
    "    \n",
    "    for i in range(N):\n",
    "        for k in range(K):\n",
    "            ber = 1.0\n",
    "            for j in range(D):\n",
    "                ber *= bernoulli(X[i][j], p[k][j]) # ここでberがほとんど0になってしまう\n",
    "            Kber = pi[k] * ber\n",
    "            likelihood += Kber\n",
    "            print(\"likelihood\\n\", likelihood)\n",
    "            \n",
    "        log_likelihood += np.log(likelihood)\n",
    "    \"\"\"\n",
    "    \n",
    "    # 上記の問題を回避するコード\n",
    "    np.clip(p, 1e-10, (1 - 1e-10), out=p) # 確率のクリップ\n",
    "    \n",
    "    for j in range(D):\n",
    "        pj = p[j]\n",
    "        log_likelihood += X[j] * np.log(pj) + (1 - X[j]) * np.log(1 - pj)\n",
    "    \n",
    "    return log_likelihood"
   ]
  },
  {
   "cell_type": "code",
   "execution_count": 23,
   "metadata": {
    "collapsed": true
   },
   "outputs": [],
   "source": [
    "def show_images(mu):\n",
    "    fig = plt.figure(figsize=(12, 10))\n",
    "    K = len(mu)\n",
    "    for k in range(K):\n",
    "        subplot = fig.add_subplot(1,K,k+1)\n",
    "        subplot.set_xticks([])\n",
    "        subplot.set_yticks([])\n",
    "        subplot.imshow(mu[k].reshape(28,28), cmap=plt.cm.gray_r)"
   ]
  },
  {
   "cell_type": "code",
   "execution_count": 30,
   "metadata": {
    "scrolled": false
   },
   "outputs": [
    {
     "name": "stdout",
     "output_type": "stream",
     "text": [
      "binal_X:\n",
      " [[0 0 0 ... 0 0 0]\n",
      " [0 0 0 ... 0 0 0]\n",
      " [0 0 0 ... 0 0 0]\n",
      " ...\n",
      " [0 0 0 ... 0 0 0]\n",
      " [0 0 0 ... 0 0 0]\n",
      " [0 0 0 ... 0 0 0]]\n",
      "p.shape: (9, 784)\n",
      "p: [[0.04810406 0.40671285 0.56394584 ... 0.41367077 0.05032032 0.27024416]\n",
      " [0.03417712 0.22543121 0.7834113  ... 0.87147809 0.00694034 0.48771464]\n",
      " [0.77835721 0.90084067 0.33552209 ... 0.56436992 0.4399136  0.46665802]\n",
      " ...\n",
      " [0.85704154 0.67275052 0.25422462 ... 0.65077049 0.09712435 0.57693472]\n",
      " [0.07976731 0.92248424 0.97962027 ... 0.17852061 0.91106956 0.29294552]\n",
      " [0.56386194 0.47611268 0.80581463 ... 0.40714613 0.08628012 0.57082337]]\n",
      "pi.shape: (9,)\n",
      "pi:\n",
      " [0.36255251 0.67786492 0.18677287 0.93220438 0.62871941 0.60230943\n",
      " 0.8165207  0.1803235  0.37268439]\n",
      "gamma.shape: (10, 9)\n",
      "-7892.875269221109\n",
      "-7443.7469632454295\n",
      "-8033.613146474644\n",
      "-8083.045085513676\n",
      "-7644.398519839752\n",
      "-8075.806065830594\n",
      "-7653.882619543291\n",
      "-8026.8957208789125\n",
      "-8185.583828104955\n",
      "turn:0, logLike:-8185.583828104955\n"
     ]
    },
    {
     "name": "stderr",
     "output_type": "stream",
     "text": [
      "/Users/inoueshinichi/.pyenv/versions/anaconda3-5.0.1/lib/python3.6/site-packages/ipykernel_launcher.py:43: DeprecationWarning: `logsumexp` is deprecated!\n",
      "Importing `logsumexp` from scipy.misc is deprecated in scipy 1.0.0. Use `scipy.special.logsumexp` instead.\n"
     ]
    },
    {
     "name": "stdout",
     "output_type": "stream",
     "text": [
      "gamma[:][k=1~9]:\n",
      " [[0.11111111 0.11111111 0.11111111 0.11111111 0.11111111 0.11111111\n",
      "  0.11111111 0.11111111 0.11111111]\n",
      " [0.05555556 0.05555556 0.05555556 0.05555556 0.05555556 0.05555556\n",
      "  0.05555556 0.05555556 0.05555556]\n",
      " [0.03703704 0.03703704 0.03703704 0.03703704 0.03703704 0.03703704\n",
      "  0.03703704 0.03703704 0.03703704]\n",
      " [0.02777778 0.02777778 0.02777778 0.02777778 0.02777778 0.02777778\n",
      "  0.02777778 0.02777778 0.02777778]\n",
      " [0.02222222 0.02222222 0.02222222 0.02222222 0.02222222 0.02222222\n",
      "  0.02222222 0.02222222 0.02222222]\n",
      " [0.01851852 0.01851852 0.01851852 0.01851852 0.01851852 0.01851852\n",
      "  0.01851852 0.01851852 0.01851852]\n",
      " [0.01587302 0.01587302 0.01587302 0.01587302 0.01587302 0.01587302\n",
      "  0.01587302 0.01587302 0.01587302]\n",
      " [0.01388889 0.01388889 0.01388889 0.01388889 0.01388889 0.01388889\n",
      "  0.01388889 0.01388889 0.01388889]\n",
      " [0.01234568 0.01234568 0.01234568 0.01234568 0.01234568 0.01234568\n",
      "  0.01234568 0.01234568 0.01234568]\n",
      " [0.01111111 0.01111111 0.01111111 0.01111111 0.01111111 0.01111111\n",
      "  0.01111111 0.01111111 0.01111111]]\n",
      "Nk[=0]: 0.3254409171075837\n",
      "Nk[=1]: 0.3254409171075837\n",
      "Nk[=2]: 0.3254409171075837\n",
      "Nk[=3]: 0.3254409171075837\n",
      "Nk[=4]: 0.3254409171075837\n",
      "Nk[=5]: 0.3254409171075837\n",
      "Nk[=6]: 0.3254409171075837\n",
      "Nk[=7]: 0.3254409171075837\n",
      "Nk[=8]: 0.3254409171075837\n",
      "turn:1, logLike:-7.05600058416896e-06\n",
      "gamma[:][k=1~9]:\n",
      " [[0.11111111 0.11111111 0.11111111 0.11111111 0.11111111 0.11111111\n",
      "  0.11111111 0.11111111 0.11111111]\n",
      " [0.05555556 0.05555556 0.05555556 0.05555556 0.05555556 0.05555556\n",
      "  0.05555556 0.05555556 0.05555556]\n",
      " [0.03703704 0.03703704 0.03703704 0.03703704 0.03703704 0.03703704\n",
      "  0.03703704 0.03703704 0.03703704]\n",
      " [0.02777778 0.02777778 0.02777778 0.02777778 0.02777778 0.02777778\n",
      "  0.02777778 0.02777778 0.02777778]\n",
      " [0.02222222 0.02222222 0.02222222 0.02222222 0.02222222 0.02222222\n",
      "  0.02222222 0.02222222 0.02222222]\n",
      " [0.01851852 0.01851852 0.01851852 0.01851852 0.01851852 0.01851852\n",
      "  0.01851852 0.01851852 0.01851852]\n",
      " [0.01587302 0.01587302 0.01587302 0.01587302 0.01587302 0.01587302\n",
      "  0.01587302 0.01587302 0.01587302]\n",
      " [0.01388889 0.01388889 0.01388889 0.01388889 0.01388889 0.01388889\n",
      "  0.01388889 0.01388889 0.01388889]\n",
      " [0.01234568 0.01234568 0.01234568 0.01234568 0.01234568 0.01234568\n",
      "  0.01234568 0.01234568 0.01234568]\n",
      " [0.01111111 0.01111111 0.01111111 0.01111111 0.01111111 0.01111111\n",
      "  0.01111111 0.01111111 0.01111111]]\n",
      "Nk[=0]: 0.3254409171075837\n",
      "Nk[=1]: 0.3254409171075837\n",
      "Nk[=2]: 0.3254409171075837\n",
      "Nk[=3]: 0.3254409171075837\n",
      "Nk[=4]: 0.3254409171075837\n",
      "Nk[=5]: 0.3254409171075837\n",
      "Nk[=6]: 0.3254409171075837\n",
      "Nk[=7]: 0.3254409171075837\n",
      "Nk[=8]: 0.3254409171075837\n",
      "new_logLike:-0.000007, logLike:-0.000007\n"
     ]
    },
    {
     "data": {
      "image/png": "[encoded data removed]",
      "text/plain": [
       "<matplotlib.figure.Figure at 0x1101909b0>"
      ]
     },
     "metadata": {},
     "output_type": "display_data"
    },
    {
     "data": {
      "image/png": "[encoded data removed]",
      "text/plain": [
       "<matplotlib.figure.Figure at 0x1818cd5f98>"
      ]
     },
     "metadata": {},
     "output_type": "display_data"
    }
   ],
   "source": [
    "# メイン\n",
    "X = binarize_img(X_train[:10])\n",
    "print(\"binal_X:\\n\", X)\n",
    "\n",
    "K = 9 # 混合モデルの数\n",
    "N = X.shape[0] # サンプルサイズ\n",
    "D = X.shape[1] # 1枚のピクセル数\n",
    "\n",
    "p = np.random.rand(K, D) # ピクセルの生成確率\n",
    "print(\"p.shape:\", p.shape)\n",
    "print(\"p:\", p)\n",
    "\n",
    "# 混合係数\n",
    "pi = np.random.rand(K)\n",
    "print(\"pi.shape:\", pi.shape)\n",
    "print(\"pi:\\n\", pi)\n",
    "\n",
    "# 負担率の空配列を用意\n",
    "gamma = np.zeros((N, K))\n",
    "print(\"gamma.shape:\", gamma.shape)\n",
    "#print(\"gamma:\\n\", gamma[:3])\n",
    "\n",
    "\n",
    "# 対数尤度の初期値\n",
    "for k in range(K):\n",
    "    logLike = 0.0\n",
    "    for i in range(N):\n",
    "        logLike += berLogLikelihood(X[i], p[k])\n",
    "    print(logLike)\n",
    "\n",
    "turn = 0\n",
    "while True:\n",
    "    print(\"turn:{0}, logLike:{1}\".format(turn, logLike))\n",
    "    \n",
    "    # 成功確率の画像表示\n",
    "    show_images(p)\n",
    "    \n",
    "    # Eステップ：負担率の計算\n",
    "    denominator = 0.0\n",
    "    for i in range(N):\n",
    "        for k in range(K):\n",
    "            logGamma_K = np.log(pi[k]) + berLogLikelihood(X[i], p[k])\n",
    "            logGamma_K -= logsumexp(logGamma_K) # ここ重要\n",
    "            gamma[i][k] = np.exp(logGamma_K) # 戻す\n",
    "            denominator += gamma[i][k]\n",
    "        \n",
    "        # 各kの負担率\n",
    "        for k in range(K):\n",
    "            gamma[i][k] = gamma[i][k] / denominator\n",
    "            \n",
    "    print(\"gamma[:][k=1~9]:\\n\", gamma[:][:])\n",
    "    \n",
    "    # Mステップ：パラメタの再計算\n",
    "    for k in range(K):\n",
    "        \n",
    "        # N_kを計算(分母)\n",
    "        Nk = 0.0\n",
    "        for i in range(N):\n",
    "            Nk += gamma[i][k]\n",
    "        print(\"Nk[=%d]:\" % k, Nk)\n",
    "        \n",
    "        # 生成確率の再計算\n",
    "        p[k] = np.zeros(D)\n",
    "        for n in range(N):\n",
    "            #print(\"X[%d] = \" % n)\n",
    "            #print(X[n])\n",
    "            p[k] += gamma[n][k] * X[n]\n",
    "        p[k] /= Nk\n",
    "        #print(\"p[{0}]=\\n{1}\".format(k, p[k]))\n",
    "        \n",
    "        # 混合係数を再計算\n",
    "        pi[k] = Nk / N\n",
    "    \n",
    "    \n",
    "    # 収束判定\n",
    "    new_logLike = 0.0\n",
    "    for i in range(N):\n",
    "        for k in range(K):\n",
    "            new_logLike += berLogLikelihood(X[i], p[k])\n",
    "    diff_logLike = new_logLike - logLike\n",
    "    \n",
    "    if diff_logLike < 0.01:\n",
    "        print(\"new_logLike:%f, logLike:%f\" % (new_logLike, logLike))\n",
    "        break\n",
    "    logLike = new_logLike\n",
    "    turn += 1\n"
   ]
  },
  {
   "cell_type": "code",
   "execution_count": null,
   "metadata": {
    "collapsed": true
   },
   "outputs": [],
   "source": []
  },
  {
   "cell_type": "code",
   "execution_count": null,
   "metadata": {
    "collapsed": true
   },
   "outputs": [],
   "source": []
  },
  {
   "cell_type": "code",
   "execution_count": null,
   "metadata": {
    "collapsed": true
   },
   "outputs": [],
   "source": []
  }
 ],
 "metadata": {
  "kernelspec": {
   "display_name": "Python 3",
   "language": "python",
   "name": "python3"
  },
  "language_info": {
   "codemirror_mode": {
    "name": "ipython",
    "version": 3
   },
   "file_extension": ".py",
   "mimetype": "text/x-python",
   "name": "python",
   "nbconvert_exporter": "python",
   "pygments_lexer": "ipython3",
   "version": "3.6.4"
  }
 },
 "nbformat": 4,
 "nbformat_minor": 2
}
